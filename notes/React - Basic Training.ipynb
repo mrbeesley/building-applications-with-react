{
 "cells": [
  {
   "cell_type": "markdown",
   "metadata": {},
   "source": [
    "<h1>React Basic Training</h1>"
   ]
  },
  {
   "cell_type": "markdown",
   "metadata": {},
   "source": [
    "<hr>\n",
    "<h3>Why React</h3>\n",
    "<ul>\n",
    "    <li>React is very fast and efficient in how it manipulates the dom</li>\n",
    "    <li>React is composable and its easy to build components</li>\n",
    "    <li>React is pluggable with other componenets since it is just a veiw framework</li>\n",
    "    <li>React is isomorphic friendly</li>\n",
    "    <li>React is simple to learn</li>\n",
    "    <li>React is battle proven, created by facebook</li>\n",
    "    <li>Unidirectional data flows with react and flux or redux</li>\n",
    "</ul>\n",
    "<h3>How does react think differently?</h3>\n",
    "<ul>\n",
    "    <li>html should be a projection of app state not a source of truth</li>\n",
    "    <li>javascript and html belong in the same file</li>\n",
    "    <li>unidirectional data flow, no tow-way binding</li>\n",
    "    <li>inline styles can be good</li>\n",
    "</ul>"
   ]
  },
  {
   "cell_type": "markdown",
   "metadata": {},
   "source": [
    "<hr>\n",
    "\n",
    "<h3>Tech Overview, Core tech for the Course</h3>\n",
    "<ul>\n",
    "    <li>React</li>\n",
    "    <ul>\n",
    "        <li>used for building the components</li>\n",
    "    </ul>\n",
    "    <li>React Router</li>\n",
    "    <ul>\n",
    "        <li>used for managing routing</li>\n",
    "        <li>client side router, creates instantaneous page transitions</li>\n",
    "        <li>declarative routes by componenet</li>\n",
    "        <li>nested views to map routes</li>\n",
    "    </ul>\n",
    "    <li>Flux</li>\n",
    "    <ul>\n",
    "        <li>used for application data flow</li>\n",
    "        <li>unidrectional data flows</li>\n",
    "        <li>more of a pattern than a library</li>\n",
    "    </ul>\n",
    "    <li>Create React App</li>\n",
    "    <ul>\n",
    "        <li>Babel - transpiles code to use in multiple browsers</li>\n",
    "        <li>Webpack - Web app bundler, bundle styles images and more</li>\n",
    "        <li>ESLint - checks our code for issues, reports issues on command line</li>\n",
    "    </ul>\n",
    "</ul>"
   ]
  },
  {
   "cell_type": "markdown",
   "metadata": {},
   "source": [
    "<hr>\n",
    "\n",
    "<h3>Environment Setup</h3>\n",
    "<ul>\n",
    "    <li>Install Node</li>\n",
    "    <li>Install VSCode</li>\n",
    "    <li>Configure Prettier</li>\n",
    "    <li>Run create-react-app</li>\n",
    "    <li>Install</li>\n",
    "    <ul>\n",
    "        <li>react router</li>\n",
    "        <li>flux</li>\n",
    "        <li>bootstrap</li>\n",
    "    </ul>\n",
    "    <li>Create a mock api - Why?</li>\n",
    "    <ul>\n",
    "        <li>Start before the api exists</li>\n",
    "        <li>Independence</li>\n",
    "        <li>Backup plan</li>\n",
    "        <li>Ultra-fast</li>\n",
    "        <li>easy to test slowness</li>\n",
    "        <li>aids in testing</li>\n",
    "        <li>point to the real api later with env variable</li>\n",
    "    </ul>\n",
    "    <li>Tools for the mock api</li>\n",
    "    <ul>\n",
    "        <li>npm install -D cross-env@5.2.0 npm-run-all@4.1.5 json-server@0.15.0</li>\n",
    "    </ul>\n",
    "</ul>"
   ]
  },
  {
   "cell_type": "markdown",
   "metadata": {},
   "source": [
    "<hr>\n",
    "<h3>JSX</h3>\n",
    "<ul>\n",
    "    <li>\"html\" in javascript</li>\n",
    "    <li>difference: className, htmlFor</li>\n",
    "    <li>compiles to javascript</li>\n",
    "    <li>attributes are camel cased</li>\n",
    "</ul>\n",
    "<h3>Creating React Componenets</h3>\n",
    "<ul>\n",
    "    <li>createClass</li>\n",
    "    <li>ES class</li>\n",
    "    <li>Function</li>\n",
    "    <ul>\n",
    "        <li>Function components are easier to understand</li>\n",
    "        <li>Function components avoid the this keyword</li>\n",
    "        <li>Funciton components require less transpired code</li>\n",
    "        <li>reduces the signal-to-noise ratio</li>\n",
    "        <li>enhanced code completion and intellisense</li>\n",
    "        <li>bloated components are obvious</li>\n",
    "        <li>easier to test</li>\n",
    "        <li>classes may be removed in the future</li>\n",
    "    </ul>\n",
    "    <li>Arrow Function</li>\n",
    "</ul>\n",
    "\n",
    "<h3>When to use Class vs Function Componenets</h3>\n",
    "<h4>Class</h4>\n",
    "<ul>\n",
    "    <li>componentDidError</li>\n",
    "    <li>getSnapshotBeforeUpdate</li>\n",
    "</ul>\n",
    "<h4>Function</h4>\n",
    "<ul>\n",
    "    <li>everywhere else :)</li>\n",
    "</ul>"
   ]
  },
  {
   "cell_type": "markdown",
   "metadata": {},
   "source": [
    "<hr>\n",
    "<h3>Props</h3>\n",
    "<ul>\n",
    "    <li>Data Passed from parent compnent</li>\n",
    "    <li>look like html attributes</li>\n",
    "    <li>immutable</li>\n",
    "    <li>in order to change you need to call a function passed in from the parent</li>\n",
    "</ul>"
   ]
  },
  {
   "cell_type": "markdown",
   "metadata": {},
   "source": [
    "<hr>\n",
    "<h3>State</h3>\n",
    "<ul>\n",
    "    <li>Holds mutable state</li>\n",
    "    <li>set via setState in class components</li>\n",
    "</ul>"
   ]
  },
  {
   "cell_type": "markdown",
   "metadata": {},
   "source": [
    "<hr>\n",
    "<h3>React Lifecycle Methods</h3>\n",
    "<a href=\"http://projects.wojtekmaj.pl/react-lifecycle-methods-diagram/\">Life Cycle Diagram</a>\n",
    "<ul>\n",
    "    <li>Run code at differnet times in classes</li>\n",
    "    <li>e.g. dont set state until the component is mounted</li>\n",
    "</ul>"
   ]
  },
  {
   "cell_type": "markdown",
   "metadata": {},
   "source": [
    "<hr>\n",
    "<h3>Hooks</h3>\n",
    "<ul>\n",
    "    <li><b>Why Hooks?</b></li>\n",
    "    <ul>\n",
    "        <li>Allow you to use functions for nearly everything</li>\n",
    "        <li>Avoids `this` confusion</li>\n",
    "        <li>use the same React concepts</li>\n",
    "        <li>Better model the way react works</li>\n",
    "        <li>easir to work with</li>\n",
    "        <li>share logic between componenets\n",
    "    </ul>\n",
    "    <li>useState - Local State</li>\n",
    "    <li>useEffect - Side effects</li>\n",
    "    <li>useContext - Access data in context</li>\n",
    "    <li><b>Rules of Hooks</b></li>\n",
    "    <ul>\n",
    "        <li>Only call in</li>\n",
    "        <ul>\n",
    "            <li>React function components</li>\n",
    "            <li>custom hooks</li>\n",
    "        </ul>\n",
    "        <li>Hooks must be declared at the top level</li>\n",
    "        <ul>\n",
    "            <li>dont wrap in if statements, loops or funcs</li>\n",
    "            <li>why? react tracks hook call order</li>\n",
    "        </ul>\n",
    "    </ul>\n",
    "</ul>"
   ]
  },
  {
   "cell_type": "markdown",
   "metadata": {},
   "source": [
    "<hr>\n",
    "<h3>Composing Components</h3>\n",
    "<ul>\n",
    "    <li><b>Controller Views</b></li>\n",
    "    <ul>\n",
    "        <li>Top level component</li>\n",
    "        <li>Sets props on children</li>\n",
    "        <li>Interacts with flux stores</li>\n",
    "        <li>Smart Components - Contains logic for managing state</li>\n",
    "        <li>Dumb Componenets - Recieve state and render a view</li>\n",
    "    </ul>\n",
    "    <li><b>Prop Types</b></li>\n",
    "    <ul>\n",
    "        <li>Defind a contract for the props that a component will recieve</li>\n",
    "        <li>ONLY RUN in DEV - helps you detect issues with the state during dev</li>\n",
    "    </ul>\n",
    "</ul>"
   ]
  },
  {
   "cell_type": "markdown",
   "metadata": {},
   "source": [
    "<hr>\n",
    "<h3>React Router</h3>\n",
    "<ul>\n",
    "    <li>Router - wrap app entry point</li>\n",
    "    <li>Route - Load this component for this url</li>\n",
    "    <li>Link - Anchors</li>\n",
    "    <li><b>Router Types</b></li>\n",
    "    <ul>\n",
    "        <li><i>Hash Router</i></li>\n",
    "        <ul>\n",
    "            <li>uses hashes in the url</li>\n",
    "        </ul>\n",
    "        <li><i>Browser Router</i></li>\n",
    "        <ul>\n",
    "            <li>uses html5 history api for clean urls</li>\n",
    "        </ul>\n",
    "        <li><i>Memory Router</i></li>\n",
    "        <ul>\n",
    "            <li>does the routes in memory</li>\n",
    "            <li>generally used in testing</li>\n",
    "        </ul>\n",
    "    </ul>\n",
    "</ul>"
   ]
  },
  {
   "cell_type": "markdown",
   "metadata": {},
   "source": [
    "<hr>\n",
    "<h3>Helpfull Tips</h3>\n",
    "<ul>\n",
    "    <li>You can only have one top level componenet in react e.g. h1 and p tag, you must wrap it in a fragment React.Fragment you can use an empty tag for shorthand of this</li>\n",
    "    <li>to write JS inside of JSX you need to wrap the javascript in {}</li>\n",
    "    <li>specify a unique key for each unique item. e.g. iterating over an array to create a table row</li>\n",
    "</ul>"
   ]
  },
  {
   "cell_type": "code",
   "execution_count": null,
   "metadata": {},
   "outputs": [],
   "source": []
  },
  {
   "cell_type": "code",
   "execution_count": null,
   "metadata": {},
   "outputs": [],
   "source": []
  },
  {
   "cell_type": "code",
   "execution_count": null,
   "metadata": {},
   "outputs": [],
   "source": []
  },
  {
   "cell_type": "code",
   "execution_count": null,
   "metadata": {},
   "outputs": [],
   "source": []
  },
  {
   "cell_type": "code",
   "execution_count": null,
   "metadata": {},
   "outputs": [],
   "source": []
  },
  {
   "cell_type": "code",
   "execution_count": null,
   "metadata": {},
   "outputs": [],
   "source": []
  },
  {
   "cell_type": "code",
   "execution_count": null,
   "metadata": {},
   "outputs": [],
   "source": []
  },
  {
   "cell_type": "code",
   "execution_count": null,
   "metadata": {},
   "outputs": [],
   "source": []
  },
  {
   "cell_type": "code",
   "execution_count": null,
   "metadata": {},
   "outputs": [],
   "source": []
  },
  {
   "cell_type": "code",
   "execution_count": null,
   "metadata": {},
   "outputs": [],
   "source": []
  },
  {
   "cell_type": "code",
   "execution_count": null,
   "metadata": {},
   "outputs": [],
   "source": []
  },
  {
   "cell_type": "code",
   "execution_count": null,
   "metadata": {},
   "outputs": [],
   "source": []
  },
  {
   "cell_type": "code",
   "execution_count": null,
   "metadata": {},
   "outputs": [],
   "source": []
  },
  {
   "cell_type": "code",
   "execution_count": null,
   "metadata": {},
   "outputs": [],
   "source": []
  },
  {
   "cell_type": "code",
   "execution_count": null,
   "metadata": {},
   "outputs": [],
   "source": []
  },
  {
   "cell_type": "code",
   "execution_count": null,
   "metadata": {},
   "outputs": [],
   "source": []
  },
  {
   "cell_type": "code",
   "execution_count": null,
   "metadata": {},
   "outputs": [],
   "source": []
  },
  {
   "cell_type": "code",
   "execution_count": null,
   "metadata": {},
   "outputs": [],
   "source": []
  },
  {
   "cell_type": "code",
   "execution_count": null,
   "metadata": {},
   "outputs": [],
   "source": []
  },
  {
   "cell_type": "code",
   "execution_count": null,
   "metadata": {},
   "outputs": [],
   "source": []
  },
  {
   "cell_type": "code",
   "execution_count": null,
   "metadata": {},
   "outputs": [],
   "source": []
  },
  {
   "cell_type": "code",
   "execution_count": null,
   "metadata": {},
   "outputs": [],
   "source": []
  },
  {
   "cell_type": "code",
   "execution_count": null,
   "metadata": {},
   "outputs": [],
   "source": []
  },
  {
   "cell_type": "code",
   "execution_count": null,
   "metadata": {},
   "outputs": [],
   "source": []
  }
 ],
 "metadata": {
  "kernelspec": {
   "display_name": "Python 3",
   "language": "python",
   "name": "python3"
  },
  "language_info": {
   "codemirror_mode": {
    "name": "ipython",
    "version": 3
   },
   "file_extension": ".py",
   "mimetype": "text/x-python",
   "name": "python",
   "nbconvert_exporter": "python",
   "pygments_lexer": "ipython3",
   "version": "3.7.4"
  }
 },
 "nbformat": 4,
 "nbformat_minor": 2
}
